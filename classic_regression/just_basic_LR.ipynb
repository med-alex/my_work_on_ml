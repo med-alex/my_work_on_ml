{
  "nbformat": 4,
  "nbformat_minor": 0,
  "metadata": {
    "colab": {
      "provenance": []
    },
    "kernelspec": {
      "name": "python3",
      "display_name": "Python 3"
    },
    "language_info": {
      "name": "python"
    }
  },
  "cells": [
    {
      "cell_type": "code",
      "execution_count": null,
      "metadata": {
        "id": "wnVRWTpNJ-e9"
      },
      "outputs": [],
      "source": [
        "#@title 1. Импорт библиотек и данных\n",
        "\n",
        "from google.colab import files\n",
        "\n",
        "import pandas as pd\n",
        "import numpy as np\n",
        "import matplotlib.pyplot as plt\n",
        "from matplotlib.colors import LinearSegmentedColormap\n",
        "import seaborn as sns; sns.set()\n",
        "\n",
        "from sklearn.linear_model import Ridge\n",
        "from sklearn.model_selection import train_test_split\n",
        "from sklearn.metrics import mean_squared_error as mse\n",
        "from sklearn.metrics import r2_score\n",
        "from sklearn.preprocessing import MinMaxScaler"
      ]
    },
    {
      "cell_type": "code",
      "source": [
        "#uploaded = files.upload()\n",
        "\n",
        "#!mkdir -p ~/.kaggle/ && mv kaggle.json ~/.kaggle/ && chmod 600 ~/.kaggle/kaggle.json"
      ],
      "metadata": {
        "id": "irYVs5RiMjDS"
      },
      "execution_count": null,
      "outputs": []
    },
    {
      "cell_type": "code",
      "source": [
        "#!kaggle competitions download -c urfu-engai-ml-2022-regression\n",
        "\n",
        "#!unzip urfu-engai-ml-2022-regression.zip"
      ],
      "metadata": {
        "id": "D_5rqVAdMF6B"
      },
      "execution_count": null,
      "outputs": []
    },
    {
      "cell_type": "code",
      "source": [
        "DF_train = pd.read_csv('/content/Train.csv', delimiter = ',', index_col = 'index') #данные для обучения\n",
        "DF_test = pd.read_csv('/content/Test.csv', delimiter = ',', index_col = 'index') #данные для теста\n",
        "Target = pd.read_csv('/content/Target.csv', delimiter = ',', index_col = 'index') #целевые значения\n",
        "Submission = pd.read_csv('/content/Submission.csv', delimiter = ',', index_col = 'index') #форма для получившегося результата\n",
        "\n",
        "DF_train"
      ],
      "metadata": {
        "id": "y_X9nJzwMLF5"
      },
      "execution_count": null,
      "outputs": []
    },
    {
      "cell_type": "code",
      "source": [
        "#@title 2. Анализ данных\n",
        "\n",
        "DF_combined = pd.concat([DF_train, DF_test]) #объединим тестовые и тренировочные данные для анализа и применения изменений\n",
        "DF_combined.info()"
      ],
      "metadata": {
        "id": "lfLIF_2fgd2e"
      },
      "execution_count": null,
      "outputs": []
    },
    {
      "cell_type": "code",
      "source": [
        "DF_combined = DF_combined.astype({'year': 'object'}) #Изменим тип данных для колонки year\n",
        "DF_combined.dtypes"
      ],
      "metadata": {
        "id": "0hyNW0-QU0mW"
      },
      "execution_count": null,
      "outputs": []
    },
    {
      "cell_type": "code",
      "source": [
        "cat_columns = [] #определим категориальные и числовые данные\n",
        "num_columns = []\n",
        "\n",
        "for column_name in DF_combined.columns:\n",
        "    if (DF_combined[column_name].dtypes == object):\n",
        "        cat_columns +=[column_name]\n",
        "    else:\n",
        "        num_columns +=[column_name]\n",
        "\n",
        "print('Категориальные данные:\\t ',cat_columns, '\\n Число столблцов = ',len(cat_columns))\n",
        "print('Числовые данные:\\t ',  num_columns, '\\n Число столблцов = ',len(num_columns))"
      ],
      "metadata": {
        "id": "u43GAxfDUPIs"
      },
      "execution_count": null,
      "outputs": []
    },
    {
      "cell_type": "code",
      "source": [
        "DF_combined.describe() #оценим числовые характеристики данных"
      ],
      "metadata": {
        "id": "Qu9jVbICVHHF"
      },
      "execution_count": null,
      "outputs": []
    },
    {
      "cell_type": "code",
      "source": [
        "width = 2 #построим гистограммы данных\n",
        "height = int(np.ceil(len(num_columns)/width))\n",
        "fig, ax = plt.subplots(nrows=height, ncols=width, figsize=(20,40))\n",
        "\n",
        "for idx, column_name in enumerate(num_columns):\n",
        "    plt.subplot(height,width, idx+1)\n",
        "\n",
        "    sns.histplot(data=DF_combined, x=column_name, bins = 5);"
      ],
      "metadata": {
        "id": "ZD1Tnzl9hdJc"
      },
      "execution_count": null,
      "outputs": []
    },
    {
      "cell_type": "code",
      "source": [
        "colors_map = LinearSegmentedColormap.from_list(name = '', colors = ['red', 'white', 'green']) #оценим корреляцию между признаками и целевой переменной\n",
        "\n",
        "DF_combined.join(Target).corr().style.background_gradient(cmap = colors_map, vmin = -1, vmax = 1)"
      ],
      "metadata": {
        "id": "Kpn4N4cZiGyY"
      },
      "execution_count": null,
      "outputs": []
    },
    {
      "cell_type": "markdown",
      "source": [
        "Можно видеть, что признаки слабо коррелируют с целевой величиной, и так же нет однозначно дублирующих друг друга признаков, которые было бы целесообразно исключить."
      ],
      "metadata": {
        "id": "1u5u4wNnilw3"
      }
    },
    {
      "cell_type": "markdown",
      "source": [
        "##3. Проведем манипуляции с данными"
      ],
      "metadata": {
        "id": "u0RGTyJrkkpN"
      }
    },
    {
      "cell_type": "markdown",
      "source": [
        "Проведем нормализацию"
      ],
      "metadata": {
        "id": "D_JWWv1wk2fL"
      }
    },
    {
      "cell_type": "code",
      "source": [
        "DF_combined_norm  = DF_combined.copy()\n",
        "Xmin = DF_combined[num_columns].min()\n",
        "Xmax = DF_combined[num_columns].max()\n",
        "\n",
        "DF_combined_norm[num_columns] = (DF_combined[num_columns] - Xmin)/( Xmax - Xmin)"
      ],
      "metadata": {
        "id": "SjFarYAmjC3v"
      },
      "execution_count": null,
      "outputs": []
    },
    {
      "cell_type": "markdown",
      "source": [
        "Пример данных до нормализации:"
      ],
      "metadata": {
        "id": "htLsMWS3Y0lK"
      }
    },
    {
      "cell_type": "code",
      "source": [
        "fig = plt.figure(figsize=(10,7))\n",
        "sns.histplot(data = DF_combined, x = 'population', bins = 5, kde = True, palette='bwr');"
      ],
      "metadata": {
        "id": "FmgTILV7VUgQ"
      },
      "execution_count": null,
      "outputs": []
    },
    {
      "cell_type": "markdown",
      "source": [
        "Те же данные после нормализации:"
      ],
      "metadata": {
        "id": "T8uxafRRY4CD"
      }
    },
    {
      "cell_type": "code",
      "source": [
        "fig = plt.figure(figsize=(10,7))\n",
        "sns.histplot(data = DF_combined_norm, x = 'population', bins = 5, kde = True, palette='bwr');"
      ],
      "metadata": {
        "id": "04-RL6fXVT9P"
      },
      "execution_count": null,
      "outputs": []
    },
    {
      "cell_type": "markdown",
      "source": [
        "Выполним one-hot encoding"
      ],
      "metadata": {
        "id": "JRX7FWVrk6lC"
      }
    },
    {
      "cell_type": "code",
      "execution_count": null,
      "metadata": {
        "id": "88870850"
      },
      "outputs": [],
      "source": [
        "DF_combined = pd.get_dummies(DF_combined_norm, columns=cat_columns)\n",
        "DF_combined.head()"
      ]
    },
    {
      "cell_type": "markdown",
      "source": [
        "##4. Обучение модели"
      ],
      "metadata": {
        "id": "7xOph1SauNnr"
      }
    },
    {
      "cell_type": "code",
      "source": [
        "Train = DF_combined.iloc[0:DF_train.shape[0],:] #разделим снова данные на train и test\n",
        "Test = DF_combined.iloc[DF_train.shape[0]:,:]\n",
        "\n",
        "X_train, X_test, Y_train, Y_test = train_test_split(Train.values, Target.values.ravel(), test_size = 0.3, random_state = 42) #определим наборы данных для обучения и валидации"
      ],
      "metadata": {
        "id": "4zyoq9t5V9_8"
      },
      "execution_count": null,
      "outputs": []
    },
    {
      "cell_type": "markdown",
      "source": [
        "Обучим модель с регуляризацией Ridge"
      ],
      "metadata": {
        "id": "CUBl7zMNlo8Y"
      }
    },
    {
      "cell_type": "code",
      "execution_count": null,
      "metadata": {
        "id": "51d260aa",
        "outputId": "63927d9a-144d-4afd-b63f-5b345a37e99e",
        "colab": {
          "base_uri": "https://localhost:8080/"
        }
      },
      "outputs": [
        {
          "output_type": "stream",
          "name": "stdout",
          "text": [
            "Test Score = 0.66, Train Score = 0.82\n"
          ]
        }
      ],
      "source": [
        "alpha = 0.6\n",
        "\n",
        "model_ridge = Ridge(alpha=alpha,max_iter=10000)\n",
        "model_ridge.fit(X_train, Y_train)\n",
        "\n",
        "print(f'Test Score = {model_ridge.score(X_test, Y_test):.2f}, Train Score = {model_ridge.score(X_train, Y_train):.2f}')"
      ]
    },
    {
      "cell_type": "code",
      "source": [
        "from sklearn.model_selection import cross_validate\n",
        "from sklearn.model_selection import ShuffleSplit\n",
        "\n",
        "scoring = {'R2': 'r2',\n",
        "           '-MSE': 'neg_mean_squared_error',\n",
        "           '-MAE': 'neg_mean_absolute_error',\n",
        "           'Max': 'max_error'}\n",
        "\n",
        "\n",
        "scores = cross_validate(model_ridge, X_train, Y_train,\n",
        "                      scoring=scoring, cv=ShuffleSplit(n_splits=5, random_state=42) )\n",
        "\n",
        "print('Результаты Кросс-валидации')\n",
        "DF_cv_linreg = pd.DataFrame(scores)\n",
        "display(DF_cv_linreg)\n",
        "print('\\n')\n",
        "print(DF_cv_linreg.mean()[2:])\n",
        "print('\\n')"
      ],
      "metadata": {
        "colab": {
          "base_uri": "https://localhost:8080/",
          "height": 388
        },
        "id": "Ijf1EDKvu-jH",
        "outputId": "61849fe5-11e0-4084-b2b5-d4036e8cd207"
      },
      "execution_count": null,
      "outputs": [
        {
          "output_type": "stream",
          "name": "stdout",
          "text": [
            "Результаты Кросс-валидации\n"
          ]
        },
        {
          "output_type": "display_data",
          "data": {
            "text/plain": [
              "   fit_time  score_time   test_R2  test_-MSE  test_-MAE  test_Max\n",
              "0  0.050491    0.001713  0.408027  -0.225722  -0.347874 -2.051612\n",
              "1  0.077815    0.001686  0.561476  -0.145809  -0.298739 -1.005273\n",
              "2  0.079458    0.001715  0.487501  -0.206172  -0.317270 -2.499225\n",
              "3  0.074416    0.004326  0.624683  -0.173772  -0.326953 -1.317331\n",
              "4  0.072977    0.004332  0.585481  -0.185634  -0.322612 -1.838283"
            ],
            "text/html": [
              "\n",
              "  <div id=\"df-1e441187-8d92-4f9b-aa4b-fc91b14db62c\">\n",
              "    <div class=\"colab-df-container\">\n",
              "      <div>\n",
              "<style scoped>\n",
              "    .dataframe tbody tr th:only-of-type {\n",
              "        vertical-align: middle;\n",
              "    }\n",
              "\n",
              "    .dataframe tbody tr th {\n",
              "        vertical-align: top;\n",
              "    }\n",
              "\n",
              "    .dataframe thead th {\n",
              "        text-align: right;\n",
              "    }\n",
              "</style>\n",
              "<table border=\"1\" class=\"dataframe\">\n",
              "  <thead>\n",
              "    <tr style=\"text-align: right;\">\n",
              "      <th></th>\n",
              "      <th>fit_time</th>\n",
              "      <th>score_time</th>\n",
              "      <th>test_R2</th>\n",
              "      <th>test_-MSE</th>\n",
              "      <th>test_-MAE</th>\n",
              "      <th>test_Max</th>\n",
              "    </tr>\n",
              "  </thead>\n",
              "  <tbody>\n",
              "    <tr>\n",
              "      <th>0</th>\n",
              "      <td>0.050491</td>\n",
              "      <td>0.001713</td>\n",
              "      <td>0.408027</td>\n",
              "      <td>-0.225722</td>\n",
              "      <td>-0.347874</td>\n",
              "      <td>-2.051612</td>\n",
              "    </tr>\n",
              "    <tr>\n",
              "      <th>1</th>\n",
              "      <td>0.077815</td>\n",
              "      <td>0.001686</td>\n",
              "      <td>0.561476</td>\n",
              "      <td>-0.145809</td>\n",
              "      <td>-0.298739</td>\n",
              "      <td>-1.005273</td>\n",
              "    </tr>\n",
              "    <tr>\n",
              "      <th>2</th>\n",
              "      <td>0.079458</td>\n",
              "      <td>0.001715</td>\n",
              "      <td>0.487501</td>\n",
              "      <td>-0.206172</td>\n",
              "      <td>-0.317270</td>\n",
              "      <td>-2.499225</td>\n",
              "    </tr>\n",
              "    <tr>\n",
              "      <th>3</th>\n",
              "      <td>0.074416</td>\n",
              "      <td>0.004326</td>\n",
              "      <td>0.624683</td>\n",
              "      <td>-0.173772</td>\n",
              "      <td>-0.326953</td>\n",
              "      <td>-1.317331</td>\n",
              "    </tr>\n",
              "    <tr>\n",
              "      <th>4</th>\n",
              "      <td>0.072977</td>\n",
              "      <td>0.004332</td>\n",
              "      <td>0.585481</td>\n",
              "      <td>-0.185634</td>\n",
              "      <td>-0.322612</td>\n",
              "      <td>-1.838283</td>\n",
              "    </tr>\n",
              "  </tbody>\n",
              "</table>\n",
              "</div>\n",
              "      <button class=\"colab-df-convert\" onclick=\"convertToInteractive('df-1e441187-8d92-4f9b-aa4b-fc91b14db62c')\"\n",
              "              title=\"Convert this dataframe to an interactive table.\"\n",
              "              style=\"display:none;\">\n",
              "        \n",
              "  <svg xmlns=\"http://www.w3.org/2000/svg\" height=\"24px\"viewBox=\"0 0 24 24\"\n",
              "       width=\"24px\">\n",
              "    <path d=\"M0 0h24v24H0V0z\" fill=\"none\"/>\n",
              "    <path d=\"M18.56 5.44l.94 2.06.94-2.06 2.06-.94-2.06-.94-.94-2.06-.94 2.06-2.06.94zm-11 1L8.5 8.5l.94-2.06 2.06-.94-2.06-.94L8.5 2.5l-.94 2.06-2.06.94zm10 10l.94 2.06.94-2.06 2.06-.94-2.06-.94-.94-2.06-.94 2.06-2.06.94z\"/><path d=\"M17.41 7.96l-1.37-1.37c-.4-.4-.92-.59-1.43-.59-.52 0-1.04.2-1.43.59L10.3 9.45l-7.72 7.72c-.78.78-.78 2.05 0 2.83L4 21.41c.39.39.9.59 1.41.59.51 0 1.02-.2 1.41-.59l7.78-7.78 2.81-2.81c.8-.78.8-2.07 0-2.86zM5.41 20L4 18.59l7.72-7.72 1.47 1.35L5.41 20z\"/>\n",
              "  </svg>\n",
              "      </button>\n",
              "      \n",
              "  <style>\n",
              "    .colab-df-container {\n",
              "      display:flex;\n",
              "      flex-wrap:wrap;\n",
              "      gap: 12px;\n",
              "    }\n",
              "\n",
              "    .colab-df-convert {\n",
              "      background-color: #E8F0FE;\n",
              "      border: none;\n",
              "      border-radius: 50%;\n",
              "      cursor: pointer;\n",
              "      display: none;\n",
              "      fill: #1967D2;\n",
              "      height: 32px;\n",
              "      padding: 0 0 0 0;\n",
              "      width: 32px;\n",
              "    }\n",
              "\n",
              "    .colab-df-convert:hover {\n",
              "      background-color: #E2EBFA;\n",
              "      box-shadow: 0px 1px 2px rgba(60, 64, 67, 0.3), 0px 1px 3px 1px rgba(60, 64, 67, 0.15);\n",
              "      fill: #174EA6;\n",
              "    }\n",
              "\n",
              "    [theme=dark] .colab-df-convert {\n",
              "      background-color: #3B4455;\n",
              "      fill: #D2E3FC;\n",
              "    }\n",
              "\n",
              "    [theme=dark] .colab-df-convert:hover {\n",
              "      background-color: #434B5C;\n",
              "      box-shadow: 0px 1px 3px 1px rgba(0, 0, 0, 0.15);\n",
              "      filter: drop-shadow(0px 1px 2px rgba(0, 0, 0, 0.3));\n",
              "      fill: #FFFFFF;\n",
              "    }\n",
              "  </style>\n",
              "\n",
              "      <script>\n",
              "        const buttonEl =\n",
              "          document.querySelector('#df-1e441187-8d92-4f9b-aa4b-fc91b14db62c button.colab-df-convert');\n",
              "        buttonEl.style.display =\n",
              "          google.colab.kernel.accessAllowed ? 'block' : 'none';\n",
              "\n",
              "        async function convertToInteractive(key) {\n",
              "          const element = document.querySelector('#df-1e441187-8d92-4f9b-aa4b-fc91b14db62c');\n",
              "          const dataTable =\n",
              "            await google.colab.kernel.invokeFunction('convertToInteractive',\n",
              "                                                     [key], {});\n",
              "          if (!dataTable) return;\n",
              "\n",
              "          const docLinkHtml = 'Like what you see? Visit the ' +\n",
              "            '<a target=\"_blank\" href=https://colab.research.google.com/notebooks/data_table.ipynb>data table notebook</a>'\n",
              "            + ' to learn more about interactive tables.';\n",
              "          element.innerHTML = '';\n",
              "          dataTable['output_type'] = 'display_data';\n",
              "          await google.colab.output.renderOutput(dataTable, element);\n",
              "          const docLink = document.createElement('div');\n",
              "          docLink.innerHTML = docLinkHtml;\n",
              "          element.appendChild(docLink);\n",
              "        }\n",
              "      </script>\n",
              "    </div>\n",
              "  </div>\n",
              "  "
            ]
          },
          "metadata": {}
        },
        {
          "output_type": "stream",
          "name": "stdout",
          "text": [
            "\n",
            "\n",
            "test_R2      0.533434\n",
            "test_-MSE   -0.187422\n",
            "test_-MAE   -0.322689\n",
            "test_Max    -1.742345\n",
            "dtype: float64\n",
            "\n",
            "\n"
          ]
        }
      ]
    },
    {
      "cell_type": "markdown",
      "source": [
        "Получим прогноз на изначальном тренировочном датасете для нахождения искомого результата"
      ],
      "metadata": {
        "id": "pwbSk2ZclvHo"
      }
    },
    {
      "cell_type": "code",
      "source": [
        "Y_predict = model_ridge.predict(Test.values)\n",
        "\n",
        "Y_predict"
      ],
      "metadata": {
        "colab": {
          "base_uri": "https://localhost:8080/"
        },
        "id": "JaAYMfZkl927",
        "outputId": "7f80ba50-94c3-4fa8-db31-f54441062f6e"
      },
      "execution_count": null,
      "outputs": [
        {
          "output_type": "execute_result",
          "data": {
            "text/plain": [
              "array([ 1.28069207,  0.72132912,  1.459737  ,  1.53256424,  1.3241679 ,\n",
              "        0.61933511,  0.58422808,  1.14914674,  1.39984803,  0.90422398,\n",
              "        0.54054047,  1.56635289,  1.27163354,  0.49313945,  1.80883329,\n",
              "        1.59631566,  1.84288185,  0.91057097,  0.88513632,  0.68028282,\n",
              "        1.14598932,  1.73010144,  1.5415943 ,  1.04267298,  0.86938367,\n",
              "        0.61562423,  0.7987333 ,  1.88727473,  0.79292879,  1.55737999,\n",
              "        1.12538852,  0.14380164,  0.37008672,  1.37559732,  0.98613264,\n",
              "        0.67053951,  1.16203794,  0.68367801,  1.12121519,  0.85434411,\n",
              "        1.07922318,  1.71789116,  0.59371381,  0.71753137,  0.23144832,\n",
              "        0.93666036,  1.13738698,  1.02234095,  1.54078814,  1.07413051,\n",
              "        1.29926293,  0.65889154,  1.28252685,  0.89518865,  1.49589335,\n",
              "        1.41977696,  0.82984838,  0.55985912,  1.74616872,  0.71503424,\n",
              "        1.44784223,  1.19952838,  1.27163354,  0.93452708,  1.01877688,\n",
              "        1.22425376,  1.33415053,  1.5110214 ,  1.12575419,  0.76846303,\n",
              "        1.06624968,  0.55976719,  1.56915969,  0.85870803,  1.40147796,\n",
              "        0.71673489,  1.35391499,  0.40878465,  0.72199963,  0.09324753,\n",
              "        1.46601575,  1.25761941,  0.29322904,  0.56851453,  0.42937567,\n",
              "        0.84283538,  0.67053951,  0.90943948,  0.68537939,  1.35575675,\n",
              "        0.09457344,  1.18694359,  0.69131157,  0.78681186,  1.67778601,\n",
              "        1.04790493,  0.84265025,  1.66428617,  0.99550624,  0.24775385,\n",
              "        1.76875245,  0.92881559,  1.742449  ,  0.64439743,  0.46112123,\n",
              "        1.37804091,  1.49747609,  1.46085047,  1.95488169,  1.77947377,\n",
              "        1.4423562 ,  1.45649627,  1.37602079,  0.09069269,  1.39285632,\n",
              "        1.62564616,  1.60889418,  0.23753726,  1.94209544,  1.90028735,\n",
              "        1.08702613,  0.80643482,  1.58196491,  1.44492285,  1.0694082 ,\n",
              "        1.26495007,  1.48142336,  1.20581521,  1.35199045,  1.00815901,\n",
              "        0.67410315,  1.35279885,  1.54254951,  1.51807999,  1.86900585,\n",
              "        0.67053951,  1.95185902,  1.68199244,  1.23542344,  0.4610401 ,\n",
              "        0.41590176,  0.62866223,  1.37319698,  1.9464248 ,  1.46529203,\n",
              "        0.41493573,  0.67150945,  0.60918901,  0.80416234,  0.85190512,\n",
              "        1.18484271,  0.0742162 ,  0.96983054,  1.56580164,  1.23108343,\n",
              "        1.40437274,  1.42927394,  1.15383334,  0.69563045,  1.44492285,\n",
              "        0.25664143,  1.92796101,  0.25168189,  1.76710409,  1.47175475,\n",
              "        0.92253916,  0.83705858,  1.14954524,  0.51972146,  1.23652651,\n",
              "        0.91475384,  1.27163354,  0.29698449,  1.41927218,  1.36518643,\n",
              "        0.48704279,  1.15881614,  1.92662182,  1.54582841,  0.99521019,\n",
              "        0.25900061,  1.17392651,  0.50425103,  1.64316236,  1.61121729,\n",
              "        1.21418592,  1.42258227,  1.46285507,  0.37456513,  0.37559406,\n",
              "        0.72608905,  1.01258628,  1.29020183,  0.63477579,  0.29461639,\n",
              "        0.87818303, -0.03523685,  0.53075015,  0.99272075,  1.76959352,\n",
              "        1.56989852,  0.6418928 ,  0.40739544,  0.37724765,  0.65227091,\n",
              "        1.83221728,  1.40282095,  1.38375473,  1.44282476,  1.38348143,\n",
              "        1.12870131,  1.40374135,  1.54286178,  0.98147261,  1.56770319,\n",
              "        1.77100782,  1.47960392,  0.29418584,  0.47578109,  1.39948625])"
            ]
          },
          "metadata": {},
          "execution_count": 360
        }
      ]
    },
    {
      "cell_type": "code",
      "source": [
        "Submission['polution'] = Y_predict\n",
        "Submission.to_csv('Submission.csv', index=True)"
      ],
      "metadata": {
        "id": "jKztUGHmtnf1"
      },
      "execution_count": null,
      "outputs": []
    },
    {
      "cell_type": "code",
      "source": [],
      "metadata": {
        "id": "uJgmilP5uCbc"
      },
      "execution_count": null,
      "outputs": []
    }
  ]
}